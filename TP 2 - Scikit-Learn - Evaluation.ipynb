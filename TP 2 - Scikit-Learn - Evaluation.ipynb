{
 "cells": [
  {
   "cell_type": "markdown",
   "id": "radio-rating",
   "metadata": {
    "id": "radio-rating"
   },
   "source": [
    "# Scikit-Learn"
   ]
  },
  {
   "cell_type": "markdown",
   "id": "middle-impossible",
   "metadata": {
    "id": "middle-impossible"
   },
   "source": [
    "## Exploratory analysis"
   ]
  },
  {
   "cell_type": "code",
   "execution_count": 1,
   "id": "other-colon",
   "metadata": {
    "id": "other-colon"
   },
   "outputs": [],
   "source": [
    "import platform\n",
    "\n",
    "import matplotlib.pyplot as plt\n",
    "import numpy as np\n",
    "import pandas as pd\n",
    "import sklearn\n",
    "from matplotlib.colors import ListedColormap\n",
    "from sklearn import (\n",
    "    datasets,\n",
    "    decomposition,\n",
    "    linear_model,\n",
    "    metrics,\n",
    "    model_selection,\n",
    "    naive_bayes,\n",
    "    pipeline,\n",
    ")"
   ]
  },
  {
   "cell_type": "code",
   "execution_count": 2,
   "id": "162b78cc",
   "metadata": {},
   "outputs": [
    {
     "name": "stdout",
     "output_type": "stream",
     "text": [
      "1.5.1\n"
     ]
    }
   ],
   "source": [
    "if platform.system() == \"Darwin\":\n",
    "    %config InlineBackend.figure_format=\"retina\"  # For high DPI display\n",
    "\n",
    "print(sklearn.__version__)  # Version tested on sklearn.__version__ == 1.5.x"
   ]
  },
  {
   "cell_type": "markdown",
   "id": "heard-joint",
   "metadata": {
    "id": "heard-joint"
   },
   "source": [
    "---"
   ]
  },
  {
   "cell_type": "markdown",
   "id": "vocational-decimal",
   "metadata": {
    "id": "vocational-decimal"
   },
   "source": [
    "### Classification (digits)"
   ]
  },
  {
   "cell_type": "markdown",
   "id": "secondary-insert",
   "metadata": {
    "id": "secondary-insert"
   },
   "source": [
    "Let's look at the classification model performance in terms of precision and recall."
   ]
  },
  {
   "cell_type": "markdown",
   "id": "measured-japanese",
   "metadata": {
    "id": "measured-japanese"
   },
   "source": [
    "#### Data loading"
   ]
  },
  {
   "cell_type": "markdown",
   "id": "emerging-cancellation",
   "metadata": {
    "id": "emerging-cancellation"
   },
   "source": [
    "https://scikit-learn.org/stable/datasets/toy_dataset.html#digits-dataset"
   ]
  },
  {
   "cell_type": "code",
   "execution_count": 3,
   "id": "opposed-myrtle",
   "metadata": {
    "id": "opposed-myrtle"
   },
   "outputs": [],
   "source": [
    "digits = datasets.load_digits()"
   ]
  },
  {
   "cell_type": "code",
   "execution_count": 4,
   "id": "backed-script",
   "metadata": {
    "id": "backed-script"
   },
   "outputs": [
    {
     "name": "stdout",
     "output_type": "stream",
     "text": [
      "(1797, 8, 8)\n",
      "(1797, 64) (1797,)\n"
     ]
    }
   ],
   "source": [
    "# Flatten the images\n",
    "n_samples = len(digits.images)\n",
    "print(digits.images.shape)\n",
    "\n",
    "data = digits.images.reshape([n_samples, -1])\n",
    "\n",
    "print(data.shape, digits.target.shape)"
   ]
  },
  {
   "cell_type": "markdown",
   "id": "destroyed-outside",
   "metadata": {
    "id": "destroyed-outside"
   },
   "source": [
    "Randomly select the training and test dataset."
   ]
  },
  {
   "cell_type": "markdown",
   "id": "confused-alias",
   "metadata": {
    "id": "confused-alias"
   },
   "source": [
    "<span style=\"color:red\">Implement your solution below</span>"
   ]
  },
  {
   "cell_type": "markdown",
   "id": "intense-vinyl",
   "metadata": {
    "id": "intense-vinyl"
   },
   "source": [
    "#### Train the models"
   ]
  },
  {
   "cell_type": "markdown",
   "id": "friendly-national",
   "metadata": {
    "id": "friendly-national"
   },
   "source": [
    "Train the model using, e.g., the [Gaussian Naive Bayes Classifier](https://scikit-learn.org/stable/modules/generated/sklearn.naive_bayes.GaussianNB.html)."
   ]
  },
  {
   "cell_type": "markdown",
   "id": "WeFlO5Xr2Wv-",
   "metadata": {
    "id": "WeFlO5Xr2Wv-"
   },
   "source": [
    "<span style=\"color:red\">Implement your solution below</span>"
   ]
  },
  {
   "cell_type": "markdown",
   "id": "convenient-champagne",
   "metadata": {
    "id": "convenient-champagne"
   },
   "source": [
    "#### Evaluate"
   ]
  },
  {
   "cell_type": "markdown",
   "id": "every-assault",
   "metadata": {
    "id": "every-assault"
   },
   "source": [
    "Evaluate with the [`accuracy_score`](https://scikit-learn.org/stable/modules/generated/sklearn.metrics.accuracy_score.html).\n",
    "\n",
    "Then give a more complete result, including precision, recall and f1-score with the method [`classification_report`](https://scikit-learn.org/stable/modules/generated/sklearn.metrics.classification_report.html)."
   ]
  },
  {
   "cell_type": "markdown",
   "id": "1ESFC_EW2Wv_",
   "metadata": {
    "id": "1ESFC_EW2Wv_"
   },
   "source": [
    "<span style=\"color:red\">Implement your solution below</span>"
   ]
  },
  {
   "cell_type": "markdown",
   "id": "intelligent-questionnaire",
   "metadata": {
    "id": "intelligent-questionnaire"
   },
   "source": [
    "#### Confusion matrix"
   ]
  },
  {
   "cell_type": "markdown",
   "id": "cross-click",
   "metadata": {
    "id": "cross-click"
   },
   "source": [
    "Use the class [`ConfusionMatrixDisplay`](https://scikit-learn.org/stable/modules/generated/sklearn.metrics.ConfusionMatrixDisplay.html)\n",
    "to display the confusion matrix.\n",
    "\n",
    "Briefly comment on the results.\n",
    "\n",
    "Note that the `.confusion_matrix` attribute of the created object allows to obtain the confusion matrix in the form of an array."
   ]
  },
  {
   "cell_type": "markdown",
   "id": "t8GNp-Vz2Wv_",
   "metadata": {
    "id": "t8GNp-Vz2Wv_"
   },
   "source": [
    "<span style=\"color:red\">Implement your solution below</span>"
   ]
  },
  {
   "cell_type": "markdown",
   "id": "occasional-thomson",
   "metadata": {
    "id": "occasional-thomson"
   },
   "source": [
    "#### Error visualization\n",
    "\n",
    "Identify the most confusing cases.\n",
    "\n",
    "Identify misclassified instances for the lowest f1-scoring cipher class and visualize them with the code below.\n",
    "\n",
    "You may use the function [numpy.where](https://numpy.org/doc/stable/reference/generated/numpy.where.html) to find the index of the concerned instances."
   ]
  },
  {
   "cell_type": "code",
   "execution_count": 5,
   "metadata": {},
   "outputs": [],
   "source": [
    "def plot_digit(idx, xs, ys=None, pred_ys=None):\n",
    "    if ys is not None:\n",
    "        print(f\"Digit value:\\t{ys[idx]}\")\n",
    "    if pred_ys is not None:\n",
    "        print(f\"Prediction:\\t{pred_ys[idx]}\")\n",
    "\n",
    "    plt.figure(figsize=(3, 3))\n",
    "    plt.imshow(\n",
    "        xs[idx].reshape(8, -1),\n",
    "        cmap=plt.cm.gray_r,\n",
    "        interpolation=\"nearest\",\n",
    "    )"
   ]
  },
  {
   "cell_type": "markdown",
   "id": "D1eNLkd52WwA",
   "metadata": {
    "id": "D1eNLkd52WwA"
   },
   "source": [
    "<span style=\"color:red\">Implement your solution below</span>"
   ]
  },
  {
   "cell_type": "markdown",
   "id": "cross-candidate",
   "metadata": {
    "id": "cross-candidate"
   },
   "source": [
    "---"
   ]
  },
  {
   "cell_type": "markdown",
   "id": "controversial-enclosure",
   "metadata": {
    "id": "controversial-enclosure"
   },
   "source": [
    "### PCA"
   ]
  },
  {
   "cell_type": "markdown",
   "id": "british-bahamas",
   "metadata": {
    "id": "british-bahamas"
   },
   "source": [
    "Try to reduce the number of features through the ([PCA](https://scikit-learn.org/stable/modules/generated/sklearn.decomposition.PCA.html)), by choosing, e.g., the 10 first principal components."
   ]
  },
  {
   "cell_type": "markdown",
   "id": "crude-bench",
   "metadata": {
    "id": "crude-bench"
   },
   "source": [
    "#### PCA and training/evaluation data selection"
   ]
  },
  {
   "cell_type": "markdown",
   "id": "FgRPURk52WwA",
   "metadata": {
    "id": "FgRPURk52WwA"
   },
   "source": [
    "<span style=\"color:red\">Implement your solution below</span>"
   ]
  },
  {
   "cell_type": "markdown",
   "id": "cooked-mailman",
   "metadata": {
    "id": "cooked-mailman"
   },
   "source": [
    "#### Model training"
   ]
  },
  {
   "cell_type": "markdown",
   "id": "aYTmf-VK2WwA",
   "metadata": {
    "id": "aYTmf-VK2WwA"
   },
   "source": [
    "<span style=\"color:red\">Implement your solution below</span>"
   ]
  },
  {
   "cell_type": "markdown",
   "id": "noble-national",
   "metadata": {
    "id": "noble-national"
   },
   "source": [
    "#### Evaluation"
   ]
  },
  {
   "cell_type": "markdown",
   "id": "DclOF7lK2WwB",
   "metadata": {
    "id": "DclOF7lK2WwB"
   },
   "source": [
    "<span style=\"color:red\">Implement your solution below</span>"
   ]
  },
  {
   "cell_type": "markdown",
   "id": "sacred-boston",
   "metadata": {
    "id": "sacred-boston"
   },
   "source": [
    "---"
   ]
  },
  {
   "cell_type": "markdown",
   "id": "catholic-magazine",
   "metadata": {
    "id": "catholic-magazine"
   },
   "source": [
    "### Cross-Validation"
   ]
  },
  {
   "cell_type": "markdown",
   "id": "apart-socket",
   "metadata": {
    "id": "apart-socket"
   },
   "source": [
    "#### Data preparation"
   ]
  },
  {
   "cell_type": "markdown",
   "id": "respected-recording",
   "metadata": {
    "id": "respected-recording"
   },
   "source": [
    "Use the function [`cross_val_score`](https://scikit-learn.org/stable/modules/generated/sklearn.model_selection.cross_val_score.html) to implement cross-validation.\n",
    "\n",
    "You may choose to do 10 splits (`cv=10`).\n",
    "\n",
    "Choose as *scoring* `\"f1_weighted\"`, then the function will return the corresponding scores in an array.\n",
    "\n",
    "By way of example and in order to be able to compare the results with the previous ones, the first application will be done on the entire dataset (which is usually not recommended)."
   ]
  },
  {
   "cell_type": "markdown",
   "id": "diJc4IlP2WwB",
   "metadata": {
    "id": "diJc4IlP2WwB"
   },
   "source": [
    "<span style=\"color:red\">Implement your solution below</span>"
   ]
  },
  {
   "cell_type": "code",
   "execution_count": 6,
   "id": "suspended-newman",
   "metadata": {
    "id": "suspended-newman"
   },
   "outputs": [],
   "source": [
    "SCORINGS = \"f1_weighted\""
   ]
  },
  {
   "cell_type": "markdown",
   "id": "yellow-planner",
   "metadata": {
    "id": "yellow-planner"
   },
   "source": [
    "Show the results with a [`plt.bar`] (https://matplotlib.org/stable/api/_as_gen/matplotlib.pyplot.bar.html) which includes an error bar `yerr` equal to 1 [standard deviation](https://numpy.org/doc/stable/reference/generated/numpy.std.html), as well as in a [`boxplot`](https://matplotlib.org/stable/api/_as_gen/ matplotlib.pyplot.boxplot.html)."
   ]
  },
  {
   "cell_type": "markdown",
   "id": "7sbrs4Yb2WwC",
   "metadata": {
    "id": "7sbrs4Yb2WwC"
   },
   "source": [
    "<span style=\"color:red\">Implement your solution below</span>"
   ]
  },
  {
   "cell_type": "markdown",
   "id": "speaking-drawing",
   "metadata": {
    "id": "speaking-drawing"
   },
   "source": [
    "---"
   ]
  },
  {
   "cell_type": "markdown",
   "id": "large-salon",
   "metadata": {
    "id": "large-salon"
   },
   "source": [
    "### Grid Search"
   ]
  },
  {
   "cell_type": "markdown",
   "id": "adult-validation",
   "metadata": {
    "id": "adult-validation"
   },
   "source": [
    "This time, we are going to use cross-validation for one of its primary use: to validate the choice of hyperparameters."
   ]
  },
  {
   "cell_type": "markdown",
   "id": "metropolitan-louisville",
   "metadata": {
    "id": "metropolitan-louisville"
   },
   "source": [
    "We will use the class\n",
    "[`model_selection.GridSearchCV`](https://scikit-learn.org/stable/modules/generated/sklearn.model_selection.GridSearchCV.html) to choose the best number of main components for the PCA.\n",
    "\n",
    "This class makes it possible to test several hyperparameters (stored in a dictionary) and to test them via cross-validation (hence the CV in the name).\n",
    "\n",
    "To do this, we no longer need to worry about creating the different subsets, the `GridSearchCV` class does it for us."
   ]
  },
  {
   "cell_type": "code",
   "execution_count": 7,
   "id": "dirty-northwest",
   "metadata": {
    "id": "dirty-northwest"
   },
   "outputs": [],
   "source": [
    "param_grid = {\"pca__n_components\": [1, 2, 5, 10, 20, 30, 40, 60]}"
   ]
  },
  {
   "cell_type": "markdown",
   "id": "accomplished-elements",
   "metadata": {
    "id": "accomplished-elements"
   },
   "source": [
    "We're going to use a [`pipeline`](https://scikit-learn.org/stable/modules/generated/sklearn.pipeline.Pipeline.html) to do PCA compression and training with the model together, which will allow us to modify the hyperparameters at any step of the process through a single command.\n",
    "\n",
    "We will have to use the exact names of the hyperparameters to modify in the dictionary, preceded by the name of the module and a double *underscore* (e.g., here: `\"pca__\"`), in order to be able to assign them to the right step of the `pipeline`."
   ]
  },
  {
   "cell_type": "markdown",
   "id": "QWqJGF0Z2WwC",
   "metadata": {
    "id": "QWqJGF0Z2WwC"
   },
   "source": [
    "<span style=\"color:red\">Implement your solution below</span>"
   ]
  },
  {
   "cell_type": "code",
   "execution_count": 8,
   "id": "printable-cardiff",
   "metadata": {
    "id": "printable-cardiff"
   },
   "outputs": [],
   "source": [
    "# Define the pipeline"
   ]
  },
  {
   "cell_type": "code",
   "execution_count": 9,
   "id": "favorite-decade",
   "metadata": {
    "id": "favorite-decade"
   },
   "outputs": [],
   "source": [
    "# Define the gridsearch using the pipeline and fit the model"
   ]
  },
  {
   "cell_type": "code",
   "execution_count": 10,
   "id": "instrumental-czech",
   "metadata": {
    "id": "instrumental-czech"
   },
   "outputs": [],
   "source": [
    "# Print the best prediction score obtained\n",
    "# and its corresponding hyperparameter value"
   ]
  },
  {
   "cell_type": "code",
   "execution_count": 11,
   "id": "87344317",
   "metadata": {
    "id": "87344317"
   },
   "outputs": [],
   "source": [
    "# Plot a bar plot (or boxplot) showing the different prediction scores\n",
    "# for each tested hyperparameter\n",
    "# (including the error bars if bar plots are chosen)"
   ]
  },
  {
   "cell_type": "markdown",
   "id": "alive-vaccine",
   "metadata": {
    "id": "alive-vaccine"
   },
   "source": [
    "## Further exercises"
   ]
  },
  {
   "cell_type": "markdown",
   "id": "protective-friend",
   "metadata": {
    "id": "protective-friend"
   },
   "source": [
    "Using the `.predict_proba` method of` linear_model.LogisticRegression`, use the result of the prediction to select a particular threshold (*threshold*) to influence the classification performances.\n",
    "\n",
    "*   Can you get 100% [accuracy](https://scikit-learn.org/stable/modules/generated/sklearn.metrics.precision_score.html)?\n",
    "*   Can you get 100% of [recall](https://scikit-learn.org/stable/modules/generated/sklearn.metrics.recall_score.html)?\n",
    "*   Measure the values of [f1-scores](https://scikit-learn.org/stable/modules/generated/sklearn.metrics.f1_score.html) and comment.\n",
    "*   Plot the [ROC](https://scikit-learn.org/stable/modules/generated/sklearn.metrics.roc_curve.html) from multiple threshold values.\n",
    "*   Compare the [AUC](https://scikit-learn.org/stable/modules/generated/sklearn.metrics.auc.html) (area under the ROC curve) of the `linear_model.LogisticRegression` and of `naive_bayes. GaussianNB()`."
   ]
  },
  {
   "cell_type": "markdown",
   "id": "7XzeMKL12WwD",
   "metadata": {
    "id": "7XzeMKL12WwD"
   },
   "source": [
    "<span style=\"color:red\">Implement your solution below and comment briefly</span>"
   ]
  },
  {
   "cell_type": "markdown",
   "id": "forty-runner",
   "metadata": {
    "id": "forty-runner"
   },
   "source": [
    "---"
   ]
  }
 ],
 "metadata": {
  "colab": {
   "collapsed_sections": [],
   "name": "TP 4 - Scikit-Learn - Complete.ipynb",
   "provenance": []
  },
  "kernelspec": {
   "display_name": "py3k",
   "language": "python",
   "name": "python3"
  },
  "language_info": {
   "codemirror_mode": {
    "name": "ipython",
    "version": 3
   },
   "file_extension": ".py",
   "mimetype": "text/x-python",
   "name": "python",
   "nbconvert_exporter": "python",
   "pygments_lexer": "ipython3",
   "version": "3.12.2"
  },
  "vscode": {
   "interpreter": {
    "hash": "8123e7477dd55409d2cb14917bba06675fb463f6157c1181c9a2c2261d354d77"
   }
  }
 },
 "nbformat": 4,
 "nbformat_minor": 5
}
