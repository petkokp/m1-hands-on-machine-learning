{
 "cells": [
  {
   "cell_type": "markdown",
   "id": "radio-rating",
   "metadata": {
    "id": "radio-rating"
   },
   "source": [
    "# Scikit-Learn"
   ]
  },
  {
   "cell_type": "markdown",
   "id": "middle-impossible",
   "metadata": {
    "id": "middle-impossible"
   },
   "source": [
    "## Exploratory analysis"
   ]
  },
  {
   "cell_type": "code",
   "execution_count": 1,
   "id": "other-colon",
   "metadata": {
    "id": "other-colon"
   },
   "outputs": [],
   "source": [
    "import platform\n",
    "\n",
    "import matplotlib.pyplot as plt\n",
    "import numpy as np\n",
    "import pandas as pd\n",
    "import sklearn\n",
    "from matplotlib.colors import ListedColormap\n",
    "from sklearn import (\n",
    "    datasets,\n",
    "    decomposition,\n",
    "    linear_model,\n",
    "    metrics,\n",
    "    model_selection,\n",
    "    naive_bayes,\n",
    "    pipeline,\n",
    ")"
   ]
  },
  {
   "cell_type": "code",
   "execution_count": 2,
   "id": "162b78cc",
   "metadata": {},
   "outputs": [
    {
     "name": "stdout",
     "output_type": "stream",
     "text": [
      "1.5.2\n"
     ]
    }
   ],
   "source": [
    "if platform.system() == \"Darwin\":\n",
    "    %config InlineBackend.figure_format=\"retina\"  # For high DPI display\n",
    "\n",
    "print(sklearn.__version__)  # Version tested on sklearn.__version__ == 1.5.x"
   ]
  },
  {
   "cell_type": "markdown",
   "id": "heard-joint",
   "metadata": {
    "id": "heard-joint"
   },
   "source": [
    "---"
   ]
  },
  {
   "cell_type": "markdown",
   "id": "vocational-decimal",
   "metadata": {
    "id": "vocational-decimal"
   },
   "source": [
    "### Classification (digits)"
   ]
  },
  {
   "cell_type": "markdown",
   "id": "secondary-insert",
   "metadata": {
    "id": "secondary-insert"
   },
   "source": [
    "Let's look at the classification model performance in terms of precision and recall."
   ]
  },
  {
   "cell_type": "markdown",
   "id": "measured-japanese",
   "metadata": {
    "id": "measured-japanese"
   },
   "source": [
    "#### Data loading"
   ]
  },
  {
   "cell_type": "markdown",
   "id": "emerging-cancellation",
   "metadata": {
    "id": "emerging-cancellation"
   },
   "source": [
    "https://scikit-learn.org/stable/datasets/toy_dataset.html#digits-dataset"
   ]
  },
  {
   "cell_type": "code",
   "execution_count": 3,
   "id": "opposed-myrtle",
   "metadata": {
    "id": "opposed-myrtle"
   },
   "outputs": [],
   "source": [
    "digits = datasets.load_digits()"
   ]
  },
  {
   "cell_type": "code",
   "execution_count": 4,
   "id": "backed-script",
   "metadata": {
    "id": "backed-script"
   },
   "outputs": [
    {
     "name": "stdout",
     "output_type": "stream",
     "text": [
      "(1797, 8, 8)\n",
      "(1797, 64) (1797,)\n"
     ]
    }
   ],
   "source": [
    "# Flatten the images\n",
    "n_samples = len(digits.images)\n",
    "print(digits.images.shape)\n",
    "\n",
    "data = digits.images.reshape([n_samples, -1])\n",
    "\n",
    "print(data.shape, digits.target.shape)"
   ]
  },
  {
   "cell_type": "markdown",
   "id": "destroyed-outside",
   "metadata": {
    "id": "destroyed-outside"
   },
   "source": [
    "Randomly select the training and test dataset."
   ]
  },
  {
   "cell_type": "markdown",
   "id": "confused-alias",
   "metadata": {
    "id": "confused-alias"
   },
   "source": [
    "<span style=\"color:red\">Implement your solution below</span>"
   ]
  },
  {
   "cell_type": "code",
   "execution_count": 5,
   "id": "5e740405",
   "metadata": {},
   "outputs": [],
   "source": [
    "from sklearn.model_selection import train_test_split\n",
    "\n",
    "X_train, X_test, y_train, y_test = train_test_split(data, digits.target, test_size=0.3, random_state=42)"
   ]
  },
  {
   "cell_type": "markdown",
   "id": "intense-vinyl",
   "metadata": {
    "id": "intense-vinyl"
   },
   "source": [
    "#### Train the models"
   ]
  },
  {
   "cell_type": "markdown",
   "id": "friendly-national",
   "metadata": {
    "id": "friendly-national"
   },
   "source": [
    "Train the model using, e.g., the [Gaussian Naive Bayes Classifier](https://scikit-learn.org/stable/modules/generated/sklearn.naive_bayes.GaussianNB.html)."
   ]
  },
  {
   "cell_type": "markdown",
   "id": "WeFlO5Xr2Wv-",
   "metadata": {
    "id": "WeFlO5Xr2Wv-"
   },
   "source": [
    "<span style=\"color:red\">Implement your solution below</span>"
   ]
  },
  {
   "cell_type": "code",
   "execution_count": 6,
   "id": "0dc8f413",
   "metadata": {},
   "outputs": [
    {
     "data": {
      "text/plain": [
       "array([6, 9, 3, 7, 2, 2, 5, 8, 5, 2, 1, 1, 7, 0, 4, 8, 3, 7, 8, 8, 4, 3,\n",
       "       9, 7, 5, 6, 3, 5, 6, 3, 4, 9, 1, 4, 4, 6, 9, 4, 7, 6, 6, 9, 1, 3,\n",
       "       6, 1, 3, 0, 6, 5, 5, 1, 2, 5, 6, 0, 9, 0, 0, 1, 7, 4, 5, 2, 4, 5,\n",
       "       7, 0, 7, 5, 9, 3, 5, 7, 7, 0, 4, 5, 5, 5, 9, 0, 2, 3, 8, 0, 6, 4,\n",
       "       4, 9, 1, 2, 1, 3, 5, 2, 9, 0, 4, 7, 4, 3, 5, 3, 1, 8, 5, 7, 4, 2,\n",
       "       7, 7, 7, 6, 1, 9, 8, 7, 8, 7, 2, 6, 9, 4, 0, 7, 8, 7, 5, 8, 5, 5,\n",
       "       7, 7, 0, 6, 6, 4, 2, 8, 0, 9, 4, 6, 8, 9, 6, 9, 0, 6, 5, 6, 6, 0,\n",
       "       6, 4, 2, 3, 3, 7, 7, 2, 9, 0, 4, 5, 8, 6, 5, 7, 9, 8, 4, 8, 1, 3,\n",
       "       7, 7, 2, 8, 3, 9, 8, 0, 3, 8, 2, 5, 6, 9, 9, 4, 1, 5, 4, 2, 9, 6,\n",
       "       4, 8, 5, 9, 5, 7, 8, 9, 4, 8, 1, 5, 4, 4, 9, 6, 8, 8, 6, 0, 4, 5,\n",
       "       8, 7, 4, 6, 4, 5, 6, 0, 3, 2, 3, 6, 7, 9, 5, 1, 4, 7, 6, 8, 1, 5,\n",
       "       5, 1, 4, 1, 8, 8, 7, 5, 7, 6, 2, 2, 2, 3, 4, 8, 7, 8, 6, 0, 8, 7,\n",
       "       7, 0, 1, 0, 4, 5, 8, 5, 3, 6, 0, 4, 1, 0, 0, 3, 6, 5, 9, 7, 3, 5,\n",
       "       5, 9, 9, 7, 5, 3, 3, 1, 0, 5, 8, 3, 4, 0, 2, 7, 6, 4, 3, 7, 5, 0,\n",
       "       5, 2, 1, 3, 1, 4, 8, 1, 7, 0, 1, 7, 8, 1, 8, 8, 7, 0, 6, 7, 8, 8,\n",
       "       5, 1, 8, 4, 5, 8, 7, 9, 8, 6, 0, 6, 6, 0, 7, 9, 8, 9, 5, 2, 7, 7,\n",
       "       9, 8, 7, 4, 3, 8, 3, 5, 6, 0, 0, 3, 0, 5, 0, 0, 4, 1, 2, 8, 6, 5,\n",
       "       7, 6, 3, 1, 8, 8, 4, 2, 3, 8, 9, 8, 8, 5, 0, 6, 3, 3, 7, 1, 6, 4,\n",
       "       1, 8, 1, 8, 5, 4, 7, 4, 8, 3, 4, 0, 5, 1, 9, 4, 5, 7, 6, 8, 7, 0,\n",
       "       5, 9, 7, 5, 9, 7, 4, 8, 2, 9, 0, 7, 5, 8, 3, 6, 3, 6, 6, 9, 5, 0,\n",
       "       1, 5, 5, 8, 3, 9, 6, 2, 6, 5, 7, 2, 0, 8, 7, 3, 7, 0, 2, 2, 3, 5,\n",
       "       8, 7, 3, 6, 5, 8, 7, 2, 5, 6, 8, 0, 7, 1, 1, 9, 6, 1, 8, 0, 0, 2,\n",
       "       9, 8, 7, 9, 2, 7, 7, 1, 3, 5, 4, 6, 7, 2, 1, 7, 8, 7, 6, 9, 2, 0,\n",
       "       4, 4, 8, 8, 7, 9, 8, 1, 7, 1, 8, 5, 1, 7, 0, 0, 1, 2, 6, 9, 4, 8,\n",
       "       9, 0, 6, 7, 7, 9, 5, 4, 7, 0, 7, 6])"
      ]
     },
     "execution_count": 6,
     "metadata": {},
     "output_type": "execute_result"
    }
   ],
   "source": [
    "classifier = naive_bayes.GaussianNB()\n",
    "\n",
    "classifier.fit(X_train, y_train)\n",
    "\n",
    "y_pred = classifier.predict(X_test)\n",
    "\n",
    "y_pred"
   ]
  },
  {
   "cell_type": "markdown",
   "id": "convenient-champagne",
   "metadata": {
    "id": "convenient-champagne"
   },
   "source": [
    "#### Evaluate"
   ]
  },
  {
   "cell_type": "markdown",
   "id": "every-assault",
   "metadata": {
    "id": "every-assault"
   },
   "source": [
    "Evaluate with the [`accuracy_score`](https://scikit-learn.org/stable/modules/generated/sklearn.metrics.accuracy_score.html).\n",
    "\n",
    "Then give a more complete result, including precision, recall and f1-score with the method [`classification_report`](https://scikit-learn.org/stable/modules/generated/sklearn.metrics.classification_report.html)."
   ]
  },
  {
   "cell_type": "markdown",
   "id": "1ESFC_EW2Wv_",
   "metadata": {
    "id": "1ESFC_EW2Wv_"
   },
   "source": [
    "<span style=\"color:red\">Implement your solution below</span>"
   ]
  },
  {
   "cell_type": "code",
   "execution_count": 23,
   "id": "f11ff66a",
   "metadata": {},
   "outputs": [
    {
     "name": "stdout",
     "output_type": "stream",
     "text": [
      "Accuracy: 0.85\n",
      "{'0': {'precision': 1.0, 'recall': 0.9811320754716981, 'f1-score': 0.9904761904761905, 'support': 53.0}, '1': {'precision': 0.8604651162790697, 'recall': 0.74, 'f1-score': 0.7956989247311828, 'support': 50.0}, '2': {'precision': 0.8611111111111112, 'recall': 0.6595744680851063, 'f1-score': 0.7469879518072289, 'support': 47.0}, '3': {'precision': 0.9534883720930233, 'recall': 0.7592592592592593, 'f1-score': 0.845360824742268, 'support': 54.0}, '4': {'precision': 0.9807692307692307, 'recall': 0.85, 'f1-score': 0.9107142857142857, 'support': 60.0}, '5': {'precision': 0.9393939393939394, 'recall': 0.9393939393939394, 'f1-score': 0.9393939393939394, 'support': 66.0}, '6': {'precision': 0.8947368421052632, 'recall': 0.9622641509433962, 'f1-score': 0.9272727272727272, 'support': 53.0}, '7': {'precision': 0.72, 'recall': 0.9818181818181818, 'f1-score': 0.8307692307692308, 'support': 55.0}, '8': {'precision': 0.5652173913043478, 'recall': 0.9069767441860465, 'f1-score': 0.6964285714285714, 'support': 43.0}, '9': {'precision': 0.8936170212765957, 'recall': 0.711864406779661, 'f1-score': 0.7924528301886793, 'support': 59.0}, 'accuracy': 0.8518518518518519, 'macro avg': {'precision': 0.8668799024332581, 'recall': 0.8492283225937289, 'f1-score': 0.8475555476524305, 'support': 540.0}, 'weighted avg': {'precision': 0.875701497570996, 'recall': 0.8518518518518519, 'f1-score': 0.8541108658074065, 'support': 540.0}}\n"
     ]
    }
   ],
   "source": [
    "from sklearn.metrics import accuracy_score, classification_report\n",
    "\n",
    "accuracy = accuracy_score(y_test, y_pred)\n",
    "\n",
    "print(f\"Accuracy: {accuracy:.2f}\")\n",
    "report = classification_report(y_test, y_pred, output_dict=True)\n",
    "print(report)"
   ]
  },
  {
   "cell_type": "markdown",
   "id": "intelligent-questionnaire",
   "metadata": {
    "id": "intelligent-questionnaire"
   },
   "source": [
    "#### Confusion matrix"
   ]
  },
  {
   "cell_type": "markdown",
   "id": "cross-click",
   "metadata": {
    "id": "cross-click"
   },
   "source": [
    "Use the class [`ConfusionMatrixDisplay`](https://scikit-learn.org/stable/modules/generated/sklearn.metrics.ConfusionMatrixDisplay.html)\n",
    "to display the confusion matrix.\n",
    "\n",
    "Briefly comment on the results.\n",
    "\n",
    "Note that the `.confusion_matrix` attribute of the created object allows to obtain the confusion matrix in the form of an array."
   ]
  },
  {
   "cell_type": "markdown",
   "id": "t8GNp-Vz2Wv_",
   "metadata": {
    "id": "t8GNp-Vz2Wv_"
   },
   "source": [
    "<span style=\"color:red\">Implement your solution below</span>"
   ]
  },
  {
   "cell_type": "code",
   "execution_count": 24,
   "id": "86597234",
   "metadata": {},
   "outputs": [
    {
     "data": {
      "image/png": "[encoded data removed]",
      "text/plain": [
       "<Figure size 640x480 with 2 Axes>"
      ]
     },
     "metadata": {},
     "output_type": "display_data"
    },
    {
     "name": "stdout",
     "output_type": "stream",
     "text": [
      "Confusion matrix array:\n",
      "[[52  0  0  0  0  0  0  1  0  0]\n",
      " [ 0 37  2  0  0  0  0  2  6  3]\n",
      " [ 0  3 31  0  0  0  1  0 12  0]\n",
      " [ 0  0  2 41  0  0  1  0  8  2]\n",
      " [ 0  0  0  0 51  0  2  7  0  0]\n",
      " [ 0  0  0  1  0 62  1  2  0  0]\n",
      " [ 0  0  0  0  1  1 51  0  0  0]\n",
      " [ 0  0  0  0  0  1  0 54  0  0]\n",
      " [ 0  2  0  0  0  0  0  2 39  0]\n",
      " [ 0  1  1  1  0  2  1  7  4 42]]\n"
     ]
    }
   ],
   "source": [
    "from sklearn.metrics import confusion_matrix, ConfusionMatrixDisplay\n",
    "\n",
    "cm = confusion_matrix(y_test, y_pred)\n",
    "disp = ConfusionMatrixDisplay(confusion_matrix=cm, display_labels=digits.target_names)\n",
    "disp.plot(cmap=plt.cm.Blues)\n",
    "plt.title(\"Confusion matrix for digits classification\")\n",
    "plt.show()\n",
    "\n",
    "conf_matrix_array = disp.confusion_matrix\n",
    "print(\"Confusion matrix array:\")\n",
    "print(conf_matrix_array)"
   ]
  },
  {
   "cell_type": "markdown",
   "id": "occasional-thomson",
   "metadata": {
    "id": "occasional-thomson"
   },
   "source": [
    "#### Error visualization\n",
    "\n",
    "Identify the most confusing cases.\n",
    "\n",
    "Identify misclassified instances for the lowest f1-scoring cipher class and visualize them with the code below.\n",
    "\n",
    "You may use the function [numpy.where](https://numpy.org/doc/stable/reference/generated/numpy.where.html) to find the index of the concerned instances."
   ]
  },
  {
   "cell_type": "code",
   "execution_count": 27,
   "metadata": {},
   "outputs": [],
   "source": [
    "def plot_digit(idx, xs, ys=None, pred_ys=None):\n",
    "    if ys is not None:\n",
    "        print(f\"Digit value:\\t{ys[idx]}\")\n",
    "    if pred_ys is not None:\n",
    "        print(f\"Prediction:\\t{pred_ys[idx]}\")\n",
    "\n",
    "    plt.figure(figsize=(3, 3))\n",
    "    plt.imshow(\n",
    "        xs[idx].reshape(8, -1),\n",
    "        cmap=plt.cm.gray_r,\n",
    "        interpolation=\"nearest\",\n",
    "    )\n",
    "    plt.show()"
   ]
  },
  {
   "cell_type": "markdown",
   "id": "D1eNLkd52WwA",
   "metadata": {
    "id": "D1eNLkd52WwA"
   },
   "source": [
    "<span style=\"color:red\">Implement your solution below</span>"
   ]
  },
  {
   "cell_type": "code",
   "execution_count": 28,
   "id": "ba5cd26a",
   "metadata": {},
   "outputs": [
    {
     "name": "stdout",
     "output_type": "stream",
     "text": [
      "f1 scores:  {0: 0.9904761904761905, 1: 0.7956989247311828, 2: 0.7469879518072289, 3: 0.845360824742268, 4: 0.9107142857142857, 5: 0.9393939393939394, 6: 0.9272727272727272, 7: 0.8307692307692308, 8: 0.6964285714285714, 9: 0.7924528301886793}\n",
      "Class with the lowest F1-score: 8\n",
      "Misclassified instances for class 8: [ 92 240 258 289]\n",
      "Visualizing misclassified instances for class 8:\n",
      "Digit value:\t8\n",
      "Prediction:\t1\n"
     ]
    },
    {
     "data": {
      "image/png": "[encoded data removed]",
      "text/plain": [
       "<Figure size 300x300 with 1 Axes>"
      ]
     },
     "metadata": {},
     "output_type": "display_data"
    },
    {
     "name": "stdout",
     "output_type": "stream",
     "text": [
      "Digit value:\t8\n",
      "Prediction:\t1\n"
     ]
    },
    {
     "data": {
      "image/png": "[encoded data removed]",
      "text/plain": [
       "<Figure size 300x300 with 1 Axes>"
      ]
     },
     "metadata": {},
     "output_type": "display_data"
    },
    {
     "name": "stdout",
     "output_type": "stream",
     "text": [
      "Digit value:\t8\n",
      "Prediction:\t7\n"
     ]
    },
    {
     "data": {
      "image/png": "[encoded data removed]",
      "text/plain": [
       "<Figure size 300x300 with 1 Axes>"
      ]
     },
     "metadata": {},
     "output_type": "display_data"
    },
    {
     "name": "stdout",
     "output_type": "stream",
     "text": [
      "Digit value:\t8\n",
      "Prediction:\t7\n"
     ]
    },
    {
     "data": {
      "image/png": "[encoded data removed]",
      "text/plain": [
       "<Figure size 300x300 with 1 Axes>"
      ]
     },
     "metadata": {},
     "output_type": "display_data"
    }
   ],
   "source": [
    "f1_scores = {int(label): report[str(label)]['f1-score'] for label in report if label.isdigit()}\n",
    "print(\"f1 scores: \", f1_scores)\n",
    "lowest_f1_class = min(f1_scores, key=f1_scores.get)\n",
    "print(f\"Class with the lowest F1-score: {lowest_f1_class}\")\n",
    "\n",
    "misclassified_idxs = np.where((y_test == lowest_f1_class) & (y_pred != y_test))[0]\n",
    "print(f\"Misclassified instances for class {lowest_f1_class}:\", misclassified_idxs)\n",
    "\n",
    "print(f\"Visualizing misclassified instances for class {lowest_f1_class}:\")\n",
    "for idx in misclassified_idxs[:5]:\n",
    "    plot_digit(idx, X_test, y_test, y_pred)"
   ]
  },
  {
   "cell_type": "markdown",
   "id": "cross-candidate",
   "metadata": {
    "id": "cross-candidate"
   },
   "source": [
    "---"
   ]
  },
  {
   "cell_type": "markdown",
   "id": "controversial-enclosure",
   "metadata": {
    "id": "controversial-enclosure"
   },
   "source": [
    "### PCA"
   ]
  },
  {
   "cell_type": "markdown",
   "id": "british-bahamas",
   "metadata": {
    "id": "british-bahamas"
   },
   "source": [
    "Try to reduce the number of features through the ([PCA](https://scikit-learn.org/stable/modules/generated/sklearn.decomposition.PCA.html)), by choosing, e.g., the 10 first principal components."
   ]
  },
  {
   "cell_type": "markdown",
   "id": "crude-bench",
   "metadata": {
    "id": "crude-bench"
   },
   "source": [
    "#### PCA and training/evaluation data selection"
   ]
  },
  {
   "cell_type": "markdown",
   "id": "FgRPURk52WwA",
   "metadata": {
    "id": "FgRPURk52WwA"
   },
   "source": [
    "<span style=\"color:red\">Implement your solution below</span>"
   ]
  },
  {
   "cell_type": "code",
   "execution_count": 29,
   "id": "8316b64b",
   "metadata": {},
   "outputs": [],
   "source": [
    "pca = decomposition.PCA(n_components=10)\n",
    "data_pca = pca.fit_transform(data)\n",
    "\n",
    "X_train, X_test, y_train, y_test = train_test_split(data_pca, digits.target, test_size=0.3, random_state=42)"
   ]
  },
  {
   "cell_type": "markdown",
   "id": "cooked-mailman",
   "metadata": {
    "id": "cooked-mailman"
   },
   "source": [
    "#### Model training"
   ]
  },
  {
   "cell_type": "markdown",
   "id": "aYTmf-VK2WwA",
   "metadata": {
    "id": "aYTmf-VK2WwA"
   },
   "source": [
    "<span style=\"color:red\">Implement your solution below</span>"
   ]
  },
  {
   "cell_type": "code",
   "execution_count": 30,
   "id": "4483fdea",
   "metadata": {},
   "outputs": [
    {
     "data": {
      "text/plain": [
       "array([6, 9, 3, 7, 2, 2, 5, 2, 5, 2, 1, 9, 4, 0, 4, 2, 3, 7, 8, 8, 4, 3,\n",
       "       9, 7, 5, 6, 3, 5, 6, 3, 4, 9, 1, 4, 4, 6, 9, 4, 7, 6, 6, 9, 1, 3,\n",
       "       6, 1, 3, 0, 6, 5, 5, 1, 9, 5, 6, 0, 9, 0, 0, 1, 5, 4, 5, 2, 4, 5,\n",
       "       7, 0, 7, 5, 9, 9, 5, 7, 7, 0, 4, 5, 5, 9, 9, 0, 2, 3, 8, 0, 6, 4,\n",
       "       4, 9, 1, 2, 8, 3, 9, 2, 9, 1, 4, 4, 4, 3, 5, 2, 1, 8, 5, 1, 4, 2,\n",
       "       7, 7, 4, 4, 1, 9, 2, 7, 8, 7, 2, 6, 9, 4, 9, 7, 2, 7, 5, 8, 7, 5,\n",
       "       7, 1, 0, 6, 6, 4, 2, 8, 0, 9, 4, 6, 9, 9, 6, 9, 0, 5, 5, 6, 6, 0,\n",
       "       6, 4, 3, 9, 3, 7, 7, 2, 9, 0, 4, 5, 3, 6, 5, 7, 9, 8, 4, 2, 1, 3,\n",
       "       7, 7, 2, 2, 3, 9, 8, 0, 3, 2, 2, 5, 6, 9, 9, 4, 1, 5, 4, 2, 3, 6,\n",
       "       4, 8, 5, 9, 5, 7, 1, 9, 4, 8, 1, 5, 4, 4, 9, 6, 1, 3, 6, 0, 4, 5,\n",
       "       2, 7, 4, 6, 4, 8, 6, 0, 3, 2, 3, 6, 7, 1, 9, 2, 4, 7, 6, 5, 8, 5,\n",
       "       5, 1, 9, 2, 8, 8, 1, 5, 7, 6, 2, 2, 2, 3, 4, 8, 8, 3, 6, 0, 9, 7,\n",
       "       7, 0, 1, 0, 4, 9, 8, 5, 3, 6, 0, 4, 1, 0, 0, 9, 6, 5, 9, 7, 3, 5,\n",
       "       9, 9, 9, 1, 5, 3, 3, 1, 0, 5, 8, 3, 4, 0, 2, 4, 6, 4, 3, 4, 5, 0,\n",
       "       5, 2, 1, 3, 1, 4, 1, 1, 7, 0, 1, 5, 2, 8, 2, 8, 7, 0, 6, 4, 8, 8,\n",
       "       5, 1, 8, 4, 5, 8, 1, 9, 8, 5, 0, 6, 2, 0, 1, 9, 1, 9, 5, 2, 7, 7,\n",
       "       9, 9, 7, 4, 3, 8, 3, 9, 6, 0, 0, 3, 0, 5, 0, 0, 4, 1, 2, 3, 4, 5,\n",
       "       2, 6, 3, 1, 8, 8, 4, 2, 3, 8, 9, 8, 2, 5, 0, 6, 3, 3, 7, 1, 6, 4,\n",
       "       1, 2, 1, 1, 8, 4, 7, 4, 8, 3, 4, 0, 5, 1, 9, 4, 5, 7, 6, 3, 7, 0,\n",
       "       5, 9, 7, 5, 9, 7, 4, 2, 2, 9, 0, 7, 5, 8, 3, 6, 3, 9, 6, 9, 5, 0,\n",
       "       1, 5, 5, 8, 3, 7, 6, 2, 6, 5, 4, 2, 0, 8, 7, 3, 7, 0, 2, 2, 3, 9,\n",
       "       8, 7, 3, 6, 5, 9, 9, 2, 5, 6, 3, 0, 7, 1, 1, 9, 6, 1, 1, 0, 0, 2,\n",
       "       9, 8, 7, 9, 9, 7, 7, 1, 3, 9, 4, 6, 8, 2, 1, 1, 8, 7, 6, 9, 2, 5,\n",
       "       4, 4, 3, 8, 7, 9, 3, 1, 7, 1, 3, 5, 1, 7, 0, 0, 2, 2, 6, 9, 4, 1,\n",
       "       9, 0, 6, 7, 7, 9, 5, 1, 7, 0, 7, 6])"
      ]
     },
     "execution_count": 30,
     "metadata": {},
     "output_type": "execute_result"
    }
   ],
   "source": [
    "classifier = naive_bayes.GaussianNB()\n",
    "\n",
    "classifier.fit(X_train, y_train)\n",
    "\n",
    "y_pred = classifier.predict(X_test)\n",
    "\n",
    "y_pred"
   ]
  },
  {
   "cell_type": "markdown",
   "id": "noble-national",
   "metadata": {
    "id": "noble-national"
   },
   "source": [
    "#### Evaluation"
   ]
  },
  {
   "cell_type": "markdown",
   "id": "DclOF7lK2WwB",
   "metadata": {
    "id": "DclOF7lK2WwB"
   },
   "source": [
    "<span style=\"color:red\">Implement your solution below</span>"
   ]
  },
  {
   "cell_type": "code",
   "execution_count": 34,
   "id": "b3a9d15d",
   "metadata": {},
   "outputs": [
    {
     "name": "stdout",
     "output_type": "stream",
     "text": [
      "Accuracy after PCA: 0.90\n",
      "Classification report after PCA:\n",
      "              precision    recall  f1-score   support\n",
      "\n",
      "           0       1.00      0.92      0.96        53\n",
      "           1       0.79      0.84      0.82        50\n",
      "           2       0.88      0.98      0.93        47\n",
      "           3       0.92      0.85      0.88        54\n",
      "           4       0.98      0.97      0.97        60\n",
      "           5       0.92      0.85      0.88        66\n",
      "           6       1.00      0.96      0.98        53\n",
      "           7       0.91      0.95      0.93        55\n",
      "           8       0.81      0.79      0.80        43\n",
      "           9       0.77      0.86      0.82        59\n",
      "\n",
      "    accuracy                           0.90       540\n",
      "   macro avg       0.90      0.90      0.90       540\n",
      "weighted avg       0.90      0.90      0.90       540\n",
      "\n"
     ]
    },
    {
     "data": {
      "image/png": "[encoded data removed]",
      "text/plain": [
       "<Figure size 640x480 with 2 Axes>"
      ]
     },
     "metadata": {},
     "output_type": "display_data"
    },
    {
     "name": "stdout",
     "output_type": "stream",
     "text": [
      "Confusion matrix array after PCA:\n",
      "[[49  1  0  0  0  2  0  0  0  1]\n",
      " [ 0 42  3  0  0  0  0  0  3  2]\n",
      " [ 0  1 46  0  0  0  0  0  0  0]\n",
      " [ 0  0  1 46  0  1  0  1  3  2]\n",
      " [ 0  1  0  0 58  0  0  1  0  0]\n",
      " [ 0  0  0  0  1 56  0  0  1  8]\n",
      " [ 0  0  0  0  0  0 51  0  1  1]\n",
      " [ 0  3  0  0  0  0  0 52  0  0]\n",
      " [ 0  3  1  3  0  1  0  0 34  1]\n",
      " [ 0  2  1  1  0  1  0  3  0 51]]\n"
     ]
    }
   ],
   "source": [
    "accuracy = accuracy_score(y_test, y_pred)\n",
    "print(f\"Accuracy after PCA: {accuracy:.2f}\")\n",
    "\n",
    "print(\"Classification report after PCA:\")\n",
    "print(classification_report(y_test, y_pred))\n",
    "\n",
    "conf_matrix = confusion_matrix(y_test, y_pred)\n",
    "disp = ConfusionMatrixDisplay(confusion_matrix=conf_matrix, display_labels=digits.target_names)\n",
    "disp.plot(cmap=plt.cm.Blues)\n",
    "plt.title(\"Confusion matrix after PCA\")\n",
    "plt.show()\n",
    "\n",
    "conf_matrix_array = disp.confusion_matrix\n",
    "print(\"Confusion matrix array after PCA:\")\n",
    "print(conf_matrix_array)"
   ]
  },
  {
   "cell_type": "markdown",
   "id": "sacred-boston",
   "metadata": {
    "id": "sacred-boston"
   },
   "source": [
    "---"
   ]
  },
  {
   "cell_type": "markdown",
   "id": "catholic-magazine",
   "metadata": {
    "id": "catholic-magazine"
   },
   "source": [
    "### Cross-Validation"
   ]
  },
  {
   "cell_type": "markdown",
   "id": "apart-socket",
   "metadata": {
    "id": "apart-socket"
   },
   "source": [
    "#### Data preparation"
   ]
  },
  {
   "cell_type": "markdown",
   "id": "respected-recording",
   "metadata": {
    "id": "respected-recording"
   },
   "source": [
    "Use the function [`cross_val_score`](https://scikit-learn.org/stable/modules/generated/sklearn.model_selection.cross_val_score.html) to implement cross-validation.\n",
    "\n",
    "You may choose to do 10 splits (`cv=10`).\n",
    "\n",
    "Choose as *scoring* `\"f1_weighted\"`, then the function will return the corresponding scores in an array.\n",
    "\n",
    "By way of example and in order to be able to compare the results with the previous ones, the first application will be done on the entire dataset (which is usually not recommended)."
   ]
  },
  {
   "cell_type": "markdown",
   "id": "diJc4IlP2WwB",
   "metadata": {
    "id": "diJc4IlP2WwB"
   },
   "source": [
    "<span style=\"color:red\">Implement your solution below</span>"
   ]
  },
  {
   "cell_type": "code",
   "execution_count": 35,
   "id": "suspended-newman",
   "metadata": {
    "id": "suspended-newman"
   },
   "outputs": [
    {
     "name": "stdout",
     "output_type": "stream",
     "text": [
      "Cross-validation F1 scores (weighted): [0.74643939 0.80864546 0.90456151 0.68155889 0.74197066 0.83962727\n",
      " 0.86848612 0.86512307 0.82646416 0.81156665]\n"
     ]
    }
   ],
   "source": [
    "from sklearn.model_selection import cross_val_score\n",
    "\n",
    "SCORINGS = \"f1_weighted\"\n",
    "\n",
    "classifier = naive_bayes.GaussianNB()\n",
    "\n",
    "cv_scores = cross_val_score(classifier, data, digits.target, cv=10, scoring=SCORINGS)\n",
    "\n",
    "print(\"Cross-validation F1 scores (weighted):\", cv_scores)"
   ]
  },
  {
   "cell_type": "markdown",
   "id": "yellow-planner",
   "metadata": {
    "id": "yellow-planner"
   },
   "source": [
    "Show the results with a [`plt.bar`] (https://matplotlib.org/stable/api/_as_gen/matplotlib.pyplot.bar.html) which includes an error bar `yerr` equal to 1 [standard deviation](https://numpy.org/doc/stable/reference/generated/numpy.std.html), as well as in a [`boxplot`](https://matplotlib.org/stable/api/_as_gen/ matplotlib.pyplot.boxplot.html)."
   ]
  },
  {
   "cell_type": "markdown",
   "id": "7sbrs4Yb2WwC",
   "metadata": {
    "id": "7sbrs4Yb2WwC"
   },
   "source": [
    "<span style=\"color:red\">Implement your solution below</span>"
   ]
  },
  {
   "cell_type": "code",
   "execution_count": 37,
   "id": "9fa93dd4",
   "metadata": {},
   "outputs": [
    {
     "data": {
      "image/png": "[encoded data removed]",
      "text/plain": [
       "<Figure size 1200x600 with 2 Axes>"
      ]
     },
     "metadata": {},
     "output_type": "display_data"
    }
   ],
   "source": [
    "mean_score = np.mean(cv_scores)\n",
    "std_dev = np.std(cv_scores)\n",
    "\n",
    "plt.figure(figsize=(12, 6))\n",
    "\n",
    "plt.subplot(1, 2, 1)\n",
    "plt.bar(1, mean_score, yerr=std_dev, color=\"skyblue\", capsize=10)\n",
    "plt.xticks([1], [\"Cross-validation F1 score\"])\n",
    "plt.ylabel(\"F1 score (weighted)\")\n",
    "plt.title(\"Mean F1 score with 1 std. dev. Error bar\")\n",
    "\n",
    "plt.subplot(1, 2, 2)\n",
    "plt.boxplot(cv_scores, vert=True, patch_artist=True, boxprops=dict(facecolor=\"lightgreen\"))\n",
    "plt.ylabel(\"F1 score (weighted)\")\n",
    "plt.title(\"Boxplot of cross-validation F1 scores\")\n",
    "\n",
    "plt.tight_layout()\n",
    "plt.show()"
   ]
  },
  {
   "cell_type": "markdown",
   "id": "speaking-drawing",
   "metadata": {
    "id": "speaking-drawing"
   },
   "source": [
    "---"
   ]
  },
  {
   "cell_type": "markdown",
   "id": "large-salon",
   "metadata": {
    "id": "large-salon"
   },
   "source": [
    "### Grid Search"
   ]
  },
  {
   "cell_type": "markdown",
   "id": "adult-validation",
   "metadata": {
    "id": "adult-validation"
   },
   "source": [
    "This time, we are going to use cross-validation for one of its primary use: to validate the choice of hyperparameters."
   ]
  },
  {
   "cell_type": "markdown",
   "id": "metropolitan-louisville",
   "metadata": {
    "id": "metropolitan-louisville"
   },
   "source": [
    "We will use the class\n",
    "[`model_selection.GridSearchCV`](https://scikit-learn.org/stable/modules/generated/sklearn.model_selection.GridSearchCV.html) to choose the best number of main components for the PCA.\n",
    "\n",
    "This class makes it possible to test several hyperparameters (stored in a dictionary) and to test them via cross-validation (hence the CV in the name).\n",
    "\n",
    "To do this, we no longer need to worry about creating the different subsets, the `GridSearchCV` class does it for us."
   ]
  },
  {
   "cell_type": "code",
   "execution_count": 38,
   "id": "dirty-northwest",
   "metadata": {
    "id": "dirty-northwest"
   },
   "outputs": [],
   "source": [
    "param_grid = {\"pca__n_components\": [1, 2, 5, 10, 20, 30, 40, 60]}"
   ]
  },
  {
   "cell_type": "markdown",
   "id": "accomplished-elements",
   "metadata": {
    "id": "accomplished-elements"
   },
   "source": [
    "We're going to use a [`pipeline`](https://scikit-learn.org/stable/modules/generated/sklearn.pipeline.Pipeline.html) to do PCA compression and training with the model together, which will allow us to modify the hyperparameters at any step of the process through a single command.\n",
    "\n",
    "We will have to use the exact names of the hyperparameters to modify in the dictionary, preceded by the name of the module and a double *underscore* (e.g., here: `\"pca__\"`), in order to be able to assign them to the right step of the `pipeline`."
   ]
  },
  {
   "cell_type": "markdown",
   "id": "QWqJGF0Z2WwC",
   "metadata": {
    "id": "QWqJGF0Z2WwC"
   },
   "source": [
    "<span style=\"color:red\">Implement your solution below</span>"
   ]
  },
  {
   "cell_type": "code",
   "execution_count": 39,
   "id": "printable-cardiff",
   "metadata": {
    "id": "printable-cardiff"
   },
   "outputs": [],
   "source": [
    "from sklearn.pipeline import Pipeline\n",
    "\n",
    "# Define the pipeline\n",
    "pipeline = Pipeline([\n",
    "    (\"pca\", decomposition.PCA()),\n",
    "    (\"classifier\", naive_bayes.GaussianNB())\n",
    "])"
   ]
  },
  {
   "cell_type": "code",
   "execution_count": 40,
   "id": "favorite-decade",
   "metadata": {
    "id": "favorite-decade"
   },
   "outputs": [
    {
     "data": {
      "text/html": [
       "<style>#sk-container-id-1 {\n",
       "  /* Definition of color scheme common for light and dark mode */\n",
       "  --sklearn-color-text: black;\n",
       "  --sklearn-color-line: gray;\n",
       "  /* Definition of color scheme for unfitted estimators */\n",
       "  --sklearn-color-unfitted-level-0: #fff5e6;\n",
       "  --sklearn-color-unfitted-level-1: #f6e4d2;\n",
       "  --sklearn-color-unfitted-level-2: #ffe0b3;\n",
       "  --sklearn-color-unfitted-level-3: chocolate;\n",
       "  /* Definition of color scheme for fitted estimators */\n",
       "  --sklearn-color-fitted-level-0: #f0f8ff;\n",
       "  --sklearn-color-fitted-level-1: #d4ebff;\n",
       "  --sklearn-color-fitted-level-2: #b3dbfd;\n",
       "  --sklearn-color-fitted-level-3: cornflowerblue;\n",
       "\n",
       "  /* Specific color for light theme */\n",
       "  --sklearn-color-text-on-default-background: var(--sg-text-color, var(--theme-code-foreground, var(--jp-content-font-color1, black)));\n",
       "  --sklearn-color-background: var(--sg-background-color, var(--theme-background, var(--jp-layout-color0, white)));\n",
       "  --sklearn-color-border-box: var(--sg-text-color, var(--theme-code-foreground, var(--jp-content-font-color1, black)));\n",
       "  --sklearn-color-icon: #696969;\n",
       "\n",
       "  @media (prefers-color-scheme: dark) {\n",
       "    /* Redefinition of color scheme for dark theme */\n",
       "    --sklearn-color-text-on-default-background: var(--sg-text-color, var(--theme-code-foreground, var(--jp-content-font-color1, white)));\n",
       "    --sklearn-color-background: var(--sg-background-color, var(--theme-background, var(--jp-layout-color0, #111)));\n",
       "    --sklearn-color-border-box: var(--sg-text-color, var(--theme-code-foreground, var(--jp-content-font-color1, white)));\n",
       "    --sklearn-color-icon: #878787;\n",
       "  }\n",
       "}\n",
       "\n",
       "#sk-container-id-1 {\n",
       "  color: var(--sklearn-color-text);\n",
       "}\n",
       "\n",
       "#sk-container-id-1 pre {\n",
       "  padding: 0;\n",
       "}\n",
       "\n",
       "#sk-container-id-1 input.sk-hidden--visually {\n",
       "  border: 0;\n",
       "  clip: rect(1px 1px 1px 1px);\n",
       "  clip: rect(1px, 1px, 1px, 1px);\n",
       "  height: 1px;\n",
       "  margin: -1px;\n",
       "  overflow: hidden;\n",
       "  padding: 0;\n",
       "  position: absolute;\n",
       "  width: 1px;\n",
       "}\n",
       "\n",
       "#sk-container-id-1 div.sk-dashed-wrapped {\n",
       "  border: 1px dashed var(--sklearn-color-line);\n",
       "  margin: 0 0.4em 0.5em 0.4em;\n",
       "  box-sizing: border-box;\n",
       "  padding-bottom: 0.4em;\n",
       "  background-color: var(--sklearn-color-background);\n",
       "}\n",
       "\n",
       "#sk-container-id-1 div.sk-container {\n",
       "  /* jupyter's `normalize.less` sets `[hidden] { display: none; }`\n",
       "     but bootstrap.min.css set `[hidden] { display: none !important; }`\n",
       "     so we also need the `!important` here to be able to override the\n",
       "     default hidden behavior on the sphinx rendered scikit-learn.org.\n",
       "     See: https://github.com/scikit-learn/scikit-learn/issues/21755 */\n",
       "  display: inline-block !important;\n",
       "  position: relative;\n",
       "}\n",
       "\n",
       "#sk-container-id-1 div.sk-text-repr-fallback {\n",
       "  display: none;\n",
       "}\n",
       "\n",
       "div.sk-parallel-item,\n",
       "div.sk-serial,\n",
       "div.sk-item {\n",
       "  /* draw centered vertical line to link estimators */\n",
       "  background-image: linear-gradient(var(--sklearn-color-text-on-default-background), var(--sklearn-color-text-on-default-background));\n",
       "  background-size: 2px 100%;\n",
       "  background-repeat: no-repeat;\n",
       "  background-position: center center;\n",
       "}\n",
       "\n",
       "/* Parallel-specific style estimator block */\n",
       "\n",
       "#sk-container-id-1 div.sk-parallel-item::after {\n",
       "  content: \"\";\n",
       "  width: 100%;\n",
       "  border-bottom: 2px solid var(--sklearn-color-text-on-default-background);\n",
       "  flex-grow: 1;\n",
       "}\n",
       "\n",
       "#sk-container-id-1 div.sk-parallel {\n",
       "  display: flex;\n",
       "  align-items: stretch;\n",
       "  justify-content: center;\n",
       "  background-color: var(--sklearn-color-background);\n",
       "  position: relative;\n",
       "}\n",
       "\n",
       "#sk-container-id-1 div.sk-parallel-item {\n",
       "  display: flex;\n",
       "  flex-direction: column;\n",
       "}\n",
       "\n",
       "#sk-container-id-1 div.sk-parallel-item:first-child::after {\n",
       "  align-self: flex-end;\n",
       "  width: 50%;\n",
       "}\n",
       "\n",
       "#sk-container-id-1 div.sk-parallel-item:last-child::after {\n",
       "  align-self: flex-start;\n",
       "  width: 50%;\n",
       "}\n",
       "\n",
       "#sk-container-id-1 div.sk-parallel-item:only-child::after {\n",
       "  width: 0;\n",
       "}\n",
       "\n",
       "/* Serial-specific style estimator block */\n",
       "\n",
       "#sk-container-id-1 div.sk-serial {\n",
       "  display: flex;\n",
       "  flex-direction: column;\n",
       "  align-items: center;\n",
       "  background-color: var(--sklearn-color-background);\n",
       "  padding-right: 1em;\n",
       "  padding-left: 1em;\n",
       "}\n",
       "\n",
       "\n",
       "/* Toggleable style: style used for estimator/Pipeline/ColumnTransformer box that is\n",
       "clickable and can be expanded/collapsed.\n",
       "- Pipeline and ColumnTransformer use this feature and define the default style\n",
       "- Estimators will overwrite some part of the style using the `sk-estimator` class\n",
       "*/\n",
       "\n",
       "/* Pipeline and ColumnTransformer style (default) */\n",
       "\n",
       "#sk-container-id-1 div.sk-toggleable {\n",
       "  /* Default theme specific background. It is overwritten whether we have a\n",
       "  specific estimator or a Pipeline/ColumnTransformer */\n",
       "  background-color: var(--sklearn-color-background);\n",
       "}\n",
       "\n",
       "/* Toggleable label */\n",
       "#sk-container-id-1 label.sk-toggleable__label {\n",
       "  cursor: pointer;\n",
       "  display: block;\n",
       "  width: 100%;\n",
       "  margin-bottom: 0;\n",
       "  padding: 0.5em;\n",
       "  box-sizing: border-box;\n",
       "  text-align: center;\n",
       "}\n",
       "\n",
       "#sk-container-id-1 label.sk-toggleable__label-arrow:before {\n",
       "  /* Arrow on the left of the label */\n",
       "  content: \"▸\";\n",
       "  float: left;\n",
       "  margin-right: 0.25em;\n",
       "  color: var(--sklearn-color-icon);\n",
       "}\n",
       "\n",
       "#sk-container-id-1 label.sk-toggleable__label-arrow:hover:before {\n",
       "  color: var(--sklearn-color-text);\n",
       "}\n",
       "\n",
       "/* Toggleable content - dropdown */\n",
       "\n",
       "#sk-container-id-1 div.sk-toggleable__content {\n",
       "  max-height: 0;\n",
       "  max-width: 0;\n",
       "  overflow: hidden;\n",
       "  text-align: left;\n",
       "  /* unfitted */\n",
       "  background-color: var(--sklearn-color-unfitted-level-0);\n",
       "}\n",
       "\n",
       "#sk-container-id-1 div.sk-toggleable__content.fitted {\n",
       "  /* fitted */\n",
       "  background-color: var(--sklearn-color-fitted-level-0);\n",
       "}\n",
       "\n",
       "#sk-container-id-1 div.sk-toggleable__content pre {\n",
       "  margin: 0.2em;\n",
       "  border-radius: 0.25em;\n",
       "  color: var(--sklearn-color-text);\n",
       "  /* unfitted */\n",
       "  background-color: var(--sklearn-color-unfitted-level-0);\n",
       "}\n",
       "\n",
       "#sk-container-id-1 div.sk-toggleable__content.fitted pre {\n",
       "  /* unfitted */\n",
       "  background-color: var(--sklearn-color-fitted-level-0);\n",
       "}\n",
       "\n",
       "#sk-container-id-1 input.sk-toggleable__control:checked~div.sk-toggleable__content {\n",
       "  /* Expand drop-down */\n",
       "  max-height: 200px;\n",
       "  max-width: 100%;\n",
       "  overflow: auto;\n",
       "}\n",
       "\n",
       "#sk-container-id-1 input.sk-toggleable__control:checked~label.sk-toggleable__label-arrow:before {\n",
       "  content: \"▾\";\n",
       "}\n",
       "\n",
       "/* Pipeline/ColumnTransformer-specific style */\n",
       "\n",
       "#sk-container-id-1 div.sk-label input.sk-toggleable__control:checked~label.sk-toggleable__label {\n",
       "  color: var(--sklearn-color-text);\n",
       "  background-color: var(--sklearn-color-unfitted-level-2);\n",
       "}\n",
       "\n",
       "#sk-container-id-1 div.sk-label.fitted input.sk-toggleable__control:checked~label.sk-toggleable__label {\n",
       "  background-color: var(--sklearn-color-fitted-level-2);\n",
       "}\n",
       "\n",
       "/* Estimator-specific style */\n",
       "\n",
       "/* Colorize estimator box */\n",
       "#sk-container-id-1 div.sk-estimator input.sk-toggleable__control:checked~label.sk-toggleable__label {\n",
       "  /* unfitted */\n",
       "  background-color: var(--sklearn-color-unfitted-level-2);\n",
       "}\n",
       "\n",
       "#sk-container-id-1 div.sk-estimator.fitted input.sk-toggleable__control:checked~label.sk-toggleable__label {\n",
       "  /* fitted */\n",
       "  background-color: var(--sklearn-color-fitted-level-2);\n",
       "}\n",
       "\n",
       "#sk-container-id-1 div.sk-label label.sk-toggleable__label,\n",
       "#sk-container-id-1 div.sk-label label {\n",
       "  /* The background is the default theme color */\n",
       "  color: var(--sklearn-color-text-on-default-background);\n",
       "}\n",
       "\n",
       "/* On hover, darken the color of the background */\n",
       "#sk-container-id-1 div.sk-label:hover label.sk-toggleable__label {\n",
       "  color: var(--sklearn-color-text);\n",
       "  background-color: var(--sklearn-color-unfitted-level-2);\n",
       "}\n",
       "\n",
       "/* Label box, darken color on hover, fitted */\n",
       "#sk-container-id-1 div.sk-label.fitted:hover label.sk-toggleable__label.fitted {\n",
       "  color: var(--sklearn-color-text);\n",
       "  background-color: var(--sklearn-color-fitted-level-2);\n",
       "}\n",
       "\n",
       "/* Estimator label */\n",
       "\n",
       "#sk-container-id-1 div.sk-label label {\n",
       "  font-family: monospace;\n",
       "  font-weight: bold;\n",
       "  display: inline-block;\n",
       "  line-height: 1.2em;\n",
       "}\n",
       "\n",
       "#sk-container-id-1 div.sk-label-container {\n",
       "  text-align: center;\n",
       "}\n",
       "\n",
       "/* Estimator-specific */\n",
       "#sk-container-id-1 div.sk-estimator {\n",
       "  font-family: monospace;\n",
       "  border: 1px dotted var(--sklearn-color-border-box);\n",
       "  border-radius: 0.25em;\n",
       "  box-sizing: border-box;\n",
       "  margin-bottom: 0.5em;\n",
       "  /* unfitted */\n",
       "  background-color: var(--sklearn-color-unfitted-level-0);\n",
       "}\n",
       "\n",
       "#sk-container-id-1 div.sk-estimator.fitted {\n",
       "  /* fitted */\n",
       "  background-color: var(--sklearn-color-fitted-level-0);\n",
       "}\n",
       "\n",
       "/* on hover */\n",
       "#sk-container-id-1 div.sk-estimator:hover {\n",
       "  /* unfitted */\n",
       "  background-color: var(--sklearn-color-unfitted-level-2);\n",
       "}\n",
       "\n",
       "#sk-container-id-1 div.sk-estimator.fitted:hover {\n",
       "  /* fitted */\n",
       "  background-color: var(--sklearn-color-fitted-level-2);\n",
       "}\n",
       "\n",
       "/* Specification for estimator info (e.g. \"i\" and \"?\") */\n",
       "\n",
       "/* Common style for \"i\" and \"?\" */\n",
       "\n",
       ".sk-estimator-doc-link,\n",
       "a:link.sk-estimator-doc-link,\n",
       "a:visited.sk-estimator-doc-link {\n",
       "  float: right;\n",
       "  font-size: smaller;\n",
       "  line-height: 1em;\n",
       "  font-family: monospace;\n",
       "  background-color: var(--sklearn-color-background);\n",
       "  border-radius: 1em;\n",
       "  height: 1em;\n",
       "  width: 1em;\n",
       "  text-decoration: none !important;\n",
       "  margin-left: 1ex;\n",
       "  /* unfitted */\n",
       "  border: var(--sklearn-color-unfitted-level-1) 1pt solid;\n",
       "  color: var(--sklearn-color-unfitted-level-1);\n",
       "}\n",
       "\n",
       ".sk-estimator-doc-link.fitted,\n",
       "a:link.sk-estimator-doc-link.fitted,\n",
       "a:visited.sk-estimator-doc-link.fitted {\n",
       "  /* fitted */\n",
       "  border: var(--sklearn-color-fitted-level-1) 1pt solid;\n",
       "  color: var(--sklearn-color-fitted-level-1);\n",
       "}\n",
       "\n",
       "/* On hover */\n",
       "div.sk-estimator:hover .sk-estimator-doc-link:hover,\n",
       ".sk-estimator-doc-link:hover,\n",
       "div.sk-label-container:hover .sk-estimator-doc-link:hover,\n",
       ".sk-estimator-doc-link:hover {\n",
       "  /* unfitted */\n",
       "  background-color: var(--sklearn-color-unfitted-level-3);\n",
       "  color: var(--sklearn-color-background);\n",
       "  text-decoration: none;\n",
       "}\n",
       "\n",
       "div.sk-estimator.fitted:hover .sk-estimator-doc-link.fitted:hover,\n",
       ".sk-estimator-doc-link.fitted:hover,\n",
       "div.sk-label-container:hover .sk-estimator-doc-link.fitted:hover,\n",
       ".sk-estimator-doc-link.fitted:hover {\n",
       "  /* fitted */\n",
       "  background-color: var(--sklearn-color-fitted-level-3);\n",
       "  color: var(--sklearn-color-background);\n",
       "  text-decoration: none;\n",
       "}\n",
       "\n",
       "/* Span, style for the box shown on hovering the info icon */\n",
       ".sk-estimator-doc-link span {\n",
       "  display: none;\n",
       "  z-index: 9999;\n",
       "  position: relative;\n",
       "  font-weight: normal;\n",
       "  right: .2ex;\n",
       "  padding: .5ex;\n",
       "  margin: .5ex;\n",
       "  width: min-content;\n",
       "  min-width: 20ex;\n",
       "  max-width: 50ex;\n",
       "  color: var(--sklearn-color-text);\n",
       "  box-shadow: 2pt 2pt 4pt #999;\n",
       "  /* unfitted */\n",
       "  background: var(--sklearn-color-unfitted-level-0);\n",
       "  border: .5pt solid var(--sklearn-color-unfitted-level-3);\n",
       "}\n",
       "\n",
       ".sk-estimator-doc-link.fitted span {\n",
       "  /* fitted */\n",
       "  background: var(--sklearn-color-fitted-level-0);\n",
       "  border: var(--sklearn-color-fitted-level-3);\n",
       "}\n",
       "\n",
       ".sk-estimator-doc-link:hover span {\n",
       "  display: block;\n",
       "}\n",
       "\n",
       "/* \"?\"-specific style due to the `<a>` HTML tag */\n",
       "\n",
       "#sk-container-id-1 a.estimator_doc_link {\n",
       "  float: right;\n",
       "  font-size: 1rem;\n",
       "  line-height: 1em;\n",
       "  font-family: monospace;\n",
       "  background-color: var(--sklearn-color-background);\n",
       "  border-radius: 1rem;\n",
       "  height: 1rem;\n",
       "  width: 1rem;\n",
       "  text-decoration: none;\n",
       "  /* unfitted */\n",
       "  color: var(--sklearn-color-unfitted-level-1);\n",
       "  border: var(--sklearn-color-unfitted-level-1) 1pt solid;\n",
       "}\n",
       "\n",
       "#sk-container-id-1 a.estimator_doc_link.fitted {\n",
       "  /* fitted */\n",
       "  border: var(--sklearn-color-fitted-level-1) 1pt solid;\n",
       "  color: var(--sklearn-color-fitted-level-1);\n",
       "}\n",
       "\n",
       "/* On hover */\n",
       "#sk-container-id-1 a.estimator_doc_link:hover {\n",
       "  /* unfitted */\n",
       "  background-color: var(--sklearn-color-unfitted-level-3);\n",
       "  color: var(--sklearn-color-background);\n",
       "  text-decoration: none;\n",
       "}\n",
       "\n",
       "#sk-container-id-1 a.estimator_doc_link.fitted:hover {\n",
       "  /* fitted */\n",
       "  background-color: var(--sklearn-color-fitted-level-3);\n",
       "}\n",
       "</style><div id=\"sk-container-id-1\" class=\"sk-top-container\"><div class=\"sk-text-repr-fallback\"><pre>GridSearchCV(cv=5,\n",
       "             estimator=Pipeline(steps=[(&#x27;pca&#x27;, PCA()),\n",
       "                                       (&#x27;classifier&#x27;, GaussianNB())]),\n",
       "             param_grid={&#x27;pca__n_components&#x27;: [1, 2, 5, 10, 20, 30, 40, 60]},\n",
       "             scoring=&#x27;f1_weighted&#x27;)</pre><b>In a Jupyter environment, please rerun this cell to show the HTML representation or trust the notebook. <br />On GitHub, the HTML representation is unable to render, please try loading this page with nbviewer.org.</b></div><div class=\"sk-container\" hidden><div class=\"sk-item sk-dashed-wrapped\"><div class=\"sk-label-container\"><div class=\"sk-label fitted sk-toggleable\"><input class=\"sk-toggleable__control sk-hidden--visually\" id=\"sk-estimator-id-1\" type=\"checkbox\" ><label for=\"sk-estimator-id-1\" class=\"sk-toggleable__label fitted sk-toggleable__label-arrow fitted\">&nbsp;&nbsp;GridSearchCV<a class=\"sk-estimator-doc-link fitted\" rel=\"noreferrer\" target=\"_blank\" href=\"https://scikit-learn.org/1.5/modules/generated/sklearn.model_selection.GridSearchCV.html\">?<span>Documentation for GridSearchCV</span></a><span class=\"sk-estimator-doc-link fitted\">i<span>Fitted</span></span></label><div class=\"sk-toggleable__content fitted\"><pre>GridSearchCV(cv=5,\n",
       "             estimator=Pipeline(steps=[(&#x27;pca&#x27;, PCA()),\n",
       "                                       (&#x27;classifier&#x27;, GaussianNB())]),\n",
       "             param_grid={&#x27;pca__n_components&#x27;: [1, 2, 5, 10, 20, 30, 40, 60]},\n",
       "             scoring=&#x27;f1_weighted&#x27;)</pre></div> </div></div><div class=\"sk-parallel\"><div class=\"sk-parallel-item\"><div class=\"sk-item\"><div class=\"sk-label-container\"><div class=\"sk-label fitted sk-toggleable\"><input class=\"sk-toggleable__control sk-hidden--visually\" id=\"sk-estimator-id-2\" type=\"checkbox\" ><label for=\"sk-estimator-id-2\" class=\"sk-toggleable__label fitted sk-toggleable__label-arrow fitted\">best_estimator_: Pipeline</label><div class=\"sk-toggleable__content fitted\"><pre>Pipeline(steps=[(&#x27;pca&#x27;, PCA(n_components=30)), (&#x27;classifier&#x27;, GaussianNB())])</pre></div> </div></div><div class=\"sk-serial\"><div class=\"sk-item\"><div class=\"sk-serial\"><div class=\"sk-item\"><div class=\"sk-estimator fitted sk-toggleable\"><input class=\"sk-toggleable__control sk-hidden--visually\" id=\"sk-estimator-id-3\" type=\"checkbox\" ><label for=\"sk-estimator-id-3\" class=\"sk-toggleable__label fitted sk-toggleable__label-arrow fitted\">&nbsp;PCA<a class=\"sk-estimator-doc-link fitted\" rel=\"noreferrer\" target=\"_blank\" href=\"https://scikit-learn.org/1.5/modules/generated/sklearn.decomposition.PCA.html\">?<span>Documentation for PCA</span></a></label><div class=\"sk-toggleable__content fitted\"><pre>PCA(n_components=30)</pre></div> </div></div><div class=\"sk-item\"><div class=\"sk-estimator fitted sk-toggleable\"><input class=\"sk-toggleable__control sk-hidden--visually\" id=\"sk-estimator-id-4\" type=\"checkbox\" ><label for=\"sk-estimator-id-4\" class=\"sk-toggleable__label fitted sk-toggleable__label-arrow fitted\">&nbsp;GaussianNB<a class=\"sk-estimator-doc-link fitted\" rel=\"noreferrer\" target=\"_blank\" href=\"https://scikit-learn.org/1.5/modules/generated/sklearn.naive_bayes.GaussianNB.html\">?<span>Documentation for GaussianNB</span></a></label><div class=\"sk-toggleable__content fitted\"><pre>GaussianNB()</pre></div> </div></div></div></div></div></div></div></div></div></div></div>"
      ],
      "text/plain": [
       "GridSearchCV(cv=5,\n",
       "             estimator=Pipeline(steps=[('pca', PCA()),\n",
       "                                       ('classifier', GaussianNB())]),\n",
       "             param_grid={'pca__n_components': [1, 2, 5, 10, 20, 30, 40, 60]},\n",
       "             scoring='f1_weighted')"
      ]
     },
     "execution_count": 40,
     "metadata": {},
     "output_type": "execute_result"
    }
   ],
   "source": [
    "from sklearn.model_selection import GridSearchCV\n",
    "\n",
    "# Define the gridsearch using the pipeline and fit the model\n",
    "grid_search = GridSearchCV(pipeline, param_grid, cv=5, scoring=\"f1_weighted\")\n",
    "\n",
    "grid_search.fit(data, digits.target)"
   ]
  },
  {
   "cell_type": "code",
   "execution_count": 42,
   "id": "instrumental-czech",
   "metadata": {
    "id": "instrumental-czech"
   },
   "outputs": [
    {
     "name": "stdout",
     "output_type": "stream",
     "text": [
      "Best F1 score (weighted): 0.91\n",
      "Best number of PCA components: 30\n"
     ]
    }
   ],
   "source": [
    "# Print the best prediction score obtained\n",
    "# and its corresponding hyperparameter value\n",
    "best_score = grid_search.best_score_\n",
    "best_n_components = grid_search.best_params_[\"pca__n_components\"]\n",
    "\n",
    "print(f\"Best F1 score (weighted): {best_score:.2f}\")\n",
    "print(f\"Best number of PCA components: {best_n_components}\")"
   ]
  },
  {
   "cell_type": "code",
   "execution_count": 44,
   "id": "87344317",
   "metadata": {
    "id": "87344317"
   },
   "outputs": [
    {
     "data": {
      "image/png": "[encoded data removed]",
      "text/plain": [
       "<Figure size 1000x600 with 1 Axes>"
      ]
     },
     "metadata": {},
     "output_type": "display_data"
    }
   ],
   "source": [
    "# Plot a bar plot (or boxplot) showing the different prediction scores\n",
    "# for each tested hyperparameter\n",
    "# (including the error bars if bar plots are chosen)\n",
    "results = grid_search.cv_results_\n",
    "mean_test_scores = results[\"mean_test_score\"]\n",
    "std_test_scores = results[\"std_test_score\"]\n",
    "\n",
    "plt.figure(figsize=(10, 6))\n",
    "plt.bar(param_grid[\"pca__n_components\"], mean_test_scores, yerr=std_test_scores, \n",
    "        color=\"skyblue\", capsize=5)\n",
    "plt.xlabel(\"Number of PCA components\")\n",
    "plt.ylabel(\"Mean F1 score (weighted)\")\n",
    "plt.title(\"Prediction scores for different number of PCA components\")\n",
    "plt.show()\n"
   ]
  },
  {
   "cell_type": "markdown",
   "id": "alive-vaccine",
   "metadata": {
    "id": "alive-vaccine"
   },
   "source": [
    "## Further exercises"
   ]
  },
  {
   "cell_type": "markdown",
   "id": "protective-friend",
   "metadata": {
    "id": "protective-friend"
   },
   "source": [
    "Using the `.predict_proba` method of` linear_model.LogisticRegression`, use the result of the prediction to select a particular threshold (*threshold*) to influence the classification performances.\n",
    "\n",
    "*   Can you get 100% [accuracy](https://scikit-learn.org/stable/modules/generated/sklearn.metrics.precision_score.html)?\n",
    "*   Can you get 100% of [recall](https://scikit-learn.org/stable/modules/generated/sklearn.metrics.recall_score.html)?\n",
    "*   Measure the values of [f1-scores](https://scikit-learn.org/stable/modules/generated/sklearn.metrics.f1_score.html) and comment.\n",
    "*   Plot the [ROC](https://scikit-learn.org/stable/modules/generated/sklearn.metrics.roc_curve.html) from multiple threshold values.\n",
    "*   Compare the [AUC](https://scikit-learn.org/stable/modules/generated/sklearn.metrics.auc.html) (area under the ROC curve) of the `linear_model.LogisticRegression` and of `naive_bayes. GaussianNB()`."
   ]
  },
  {
   "cell_type": "markdown",
   "id": "7XzeMKL12WwD",
   "metadata": {
    "id": "7XzeMKL12WwD"
   },
   "source": [
    "<span style=\"color:red\">Implement your solution below and comment briefly</span>"
   ]
  },
  {
   "cell_type": "markdown",
   "id": "forty-runner",
   "metadata": {
    "id": "forty-runner"
   },
   "source": [
    "---"
   ]
  }
 ],
 "metadata": {
  "colab": {
   "collapsed_sections": [],
   "name": "TP 4 - Scikit-Learn - Complete.ipynb",
   "provenance": []
  },
  "kernelspec": {
   "display_name": "py3k",
   "language": "python",
   "name": "python3"
  },
  "language_info": {
   "codemirror_mode": {
    "name": "ipython",
    "version": 3
   },
   "file_extension": ".py",
   "mimetype": "text/x-python",
   "name": "python",
   "nbconvert_exporter": "python",
   "pygments_lexer": "ipython3",
   "version": "3.12.3"
  },
  "vscode": {
   "interpreter": {
    "hash": "8123e7477dd55409d2cb14917bba06675fb463f6157c1181c9a2c2261d354d77"
   }
  }
 },
 "nbformat": 4,
 "nbformat_minor": 5
}
